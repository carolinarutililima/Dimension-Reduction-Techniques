{
  "nbformat": 4,
  "nbformat_minor": 0,
  "metadata": {
    "colab": {
      "name": "homework_5_3.ipynb",
      "provenance": []
    },
    "kernelspec": {
      "name": "python3",
      "display_name": "Python 3"
    },
    "language_info": {
      "name": "python"
    }
  },
  "cells": [
    {
      "cell_type": "markdown",
      "source": [
        "4. Implement a PCA function without using the available packages/libraries in R/Python. The input parameters of this function are the data matrix 𝐗 and a Boolean flag “isCorrMX.” The Boolean flag allows users to choose if the correlation matrix is used when set TRUE; otherwise, the covariance matrix would be decomposed. You can start with the function of Spectral Decomposition or Singular Value Decomposition.\n"
      ],
      "metadata": {
        "id": "EkBT7q3fTXoV"
      }
    },
    {
      "cell_type": "markdown",
      "source": [
        "a) (15%) Necessary outputs are:\n",
        "• the loading matrix;\n",
        "• the eigenvalue value vector;\n",
        "• the score matrix, i.e., the matrix of principal components; and\n",
        "• the scree plot where eigenvalues are shown as bars and cumulative variance explained is drawn as a line (similar to the one on p. 36 of DA04)."
      ],
      "metadata": {
        "id": "jLJKk5jTT4qc"
      }
    },
    {
      "cell_type": "code",
      "execution_count": 1,
      "metadata": {
        "id": "5RTFPSSEK9VA"
      },
      "outputs": [],
      "source": [
        "import numpy as np\n",
        "import matplotlib.pyplot as plt\n",
        "import pandas as pd\n",
        "import seaborn as sns\n",
        "%matplotlib inline"
      ]
    },
    {
      "cell_type": "code",
      "source": [
        "from sklearn.preprocessing import StandardScaler\n",
        "\n",
        "def plot_eigvals(eigVals): \n",
        "  x_axis=[]\n",
        "  y = []\n",
        "  y_culmulated = []\n",
        "  total_val = eigVals.sum() \n",
        "  y_culmulated.append(eigVals[0]/total_val) \n",
        "  for i in range(0,len(eigVals)):\n",
        "    x_axis.append(i) \n",
        "    y.append(eigVals[i]/total_val) \n",
        "    if i !=0 :\n",
        "      y_culmulated.append((eigVals[i]/total_val+y_culmulated[i-1]))\n",
        "      print(\"y_culmulated\",y_culmulated )\n",
        "  \n",
        "  \n",
        "  fig, ax1 = plt.subplots()\n",
        "  ax2 = ax1.twinx() \n",
        "\n",
        "\n",
        "  ax2.set_xlabel(\"PC numbers\")\n",
        "  ax1.set_ylabel(\"Variance\")\n",
        "  ax1.bar(x_axis, eigVals, color=\"blue\")\n",
        "\n",
        "\n",
        "  ax2.set_ylabel(\"Cumulative Percentage\") \n",
        "  ax2.plot(x_axis,y_culmulated , color=\"red\")\n",
        "\n",
        "\n",
        "def onedin_plot(projected_X):\n",
        "  result = pd.DataFrame(projected_X, columns=['PC1'])\n",
        "  result['y-axis'] = 0.0\n",
        "  sns.lmplot('PC1', 'y-axis', data=result, fit_reg=False)\n",
        "\n",
        "  # title\n",
        "  plt.title('PCA result')\n",
        "\n",
        "  \n",
        "\n",
        "\n",
        "def pca_function(X, isCorrMX):\n",
        "  features = X.T\n",
        "  if isCorrMX == True:\n",
        "    matrix = np.corrcoef(features)\n",
        "  else:\n",
        "    matrix = np.cov(features)\n",
        "\n",
        "  eig_vals, eig_vecs = np.linalg.eig(matrix)\n",
        "  eig_vals[0]/sum(eig_vals)\n",
        "  projected_X = X.dot(eig_vecs.T[0])\n",
        "\n",
        "  onedin_plot(projected_X)\n",
        "  plot_eigvals(eig_vals)\n",
        "\n",
        "\n",
        "  return matrix, eig_vals, eig_vecs\n"
      ],
      "metadata": {
        "id": "XKOdBrIoREgj"
      },
      "execution_count": 2,
      "outputs": []
    },
    {
      "cell_type": "markdown",
      "source": [
        "b. (5%) Demonstrate your PCA function using the AutoMPG dataset. By comparing the results of “isCorrMX == TRUE” and “isCorrMX == FALSE”, do you think PCA is scale-invariant?"
      ],
      "metadata": {
        "id": "0ewjtkJ47SCw"
      }
    },
    {
      "cell_type": "code",
      "source": [
        "df = pd.read_csv('/content/drive/MyDrive/Colab Notebooks/homework_5/auto-mpg.csv', sep=\";\", header=None, names=['Mpg', 'Cylinders', 'Displacement' ,'Horsepower', 'Weight', 'Acceleration', 'Model year', 'Origin', 'Car name'])\n",
        "\n",
        "\n",
        "df.head()"
      ],
      "metadata": {
        "id": "dnQxx8ZOUBbA",
        "colab": {
          "base_uri": "https://localhost:8080/",
          "height": 206
        },
        "outputId": "bb787942-1cc8-4e79-86f6-e44e2f2ea732"
      },
      "execution_count": 3,
      "outputs": [
        {
          "output_type": "execute_result",
          "data": {
            "text/plain": [
              "    Mpg  Cylinders  Displacement  Horsepower  Weight  Acceleration  \\\n",
              "0  18.0          8         307.0         130    3504          12.0   \n",
              "1  15.0          8         350.0         165    3693          11.5   \n",
              "2  18.0          8         318.0         150    3436          11.0   \n",
              "3  16.0          8         304.0         150    3433          12.0   \n",
              "4  17.0          8         302.0         140    3449          10.5   \n",
              "\n",
              "   Model year  Origin                   Car name  \n",
              "0          70       1  chevrolet chevelle malibu  \n",
              "1          70       1          buick skylark 320  \n",
              "2          70       1         plymouth satellite  \n",
              "3          70       1              amc rebel sst  \n",
              "4          70       1                ford torino  "
            ],
            "text/html": [
              "\n",
              "  <div id=\"df-5f3a2c00-a1dc-4fd9-b8c2-1e409b51cb8b\">\n",
              "    <div class=\"colab-df-container\">\n",
              "      <div>\n",
              "<style scoped>\n",
              "    .dataframe tbody tr th:only-of-type {\n",
              "        vertical-align: middle;\n",
              "    }\n",
              "\n",
              "    .dataframe tbody tr th {\n",
              "        vertical-align: top;\n",
              "    }\n",
              "\n",
              "    .dataframe thead th {\n",
              "        text-align: right;\n",
              "    }\n",
              "</style>\n",
              "<table border=\"1\" class=\"dataframe\">\n",
              "  <thead>\n",
              "    <tr style=\"text-align: right;\">\n",
              "      <th></th>\n",
              "      <th>Mpg</th>\n",
              "      <th>Cylinders</th>\n",
              "      <th>Displacement</th>\n",
              "      <th>Horsepower</th>\n",
              "      <th>Weight</th>\n",
              "      <th>Acceleration</th>\n",
              "      <th>Model year</th>\n",
              "      <th>Origin</th>\n",
              "      <th>Car name</th>\n",
              "    </tr>\n",
              "  </thead>\n",
              "  <tbody>\n",
              "    <tr>\n",
              "      <th>0</th>\n",
              "      <td>18.0</td>\n",
              "      <td>8</td>\n",
              "      <td>307.0</td>\n",
              "      <td>130</td>\n",
              "      <td>3504</td>\n",
              "      <td>12.0</td>\n",
              "      <td>70</td>\n",
              "      <td>1</td>\n",
              "      <td>chevrolet chevelle malibu</td>\n",
              "    </tr>\n",
              "    <tr>\n",
              "      <th>1</th>\n",
              "      <td>15.0</td>\n",
              "      <td>8</td>\n",
              "      <td>350.0</td>\n",
              "      <td>165</td>\n",
              "      <td>3693</td>\n",
              "      <td>11.5</td>\n",
              "      <td>70</td>\n",
              "      <td>1</td>\n",
              "      <td>buick skylark 320</td>\n",
              "    </tr>\n",
              "    <tr>\n",
              "      <th>2</th>\n",
              "      <td>18.0</td>\n",
              "      <td>8</td>\n",
              "      <td>318.0</td>\n",
              "      <td>150</td>\n",
              "      <td>3436</td>\n",
              "      <td>11.0</td>\n",
              "      <td>70</td>\n",
              "      <td>1</td>\n",
              "      <td>plymouth satellite</td>\n",
              "    </tr>\n",
              "    <tr>\n",
              "      <th>3</th>\n",
              "      <td>16.0</td>\n",
              "      <td>8</td>\n",
              "      <td>304.0</td>\n",
              "      <td>150</td>\n",
              "      <td>3433</td>\n",
              "      <td>12.0</td>\n",
              "      <td>70</td>\n",
              "      <td>1</td>\n",
              "      <td>amc rebel sst</td>\n",
              "    </tr>\n",
              "    <tr>\n",
              "      <th>4</th>\n",
              "      <td>17.0</td>\n",
              "      <td>8</td>\n",
              "      <td>302.0</td>\n",
              "      <td>140</td>\n",
              "      <td>3449</td>\n",
              "      <td>10.5</td>\n",
              "      <td>70</td>\n",
              "      <td>1</td>\n",
              "      <td>ford torino</td>\n",
              "    </tr>\n",
              "  </tbody>\n",
              "</table>\n",
              "</div>\n",
              "      <button class=\"colab-df-convert\" onclick=\"convertToInteractive('df-5f3a2c00-a1dc-4fd9-b8c2-1e409b51cb8b')\"\n",
              "              title=\"Convert this dataframe to an interactive table.\"\n",
              "              style=\"display:none;\">\n",
              "        \n",
              "  <svg xmlns=\"http://www.w3.org/2000/svg\" height=\"24px\"viewBox=\"0 0 24 24\"\n",
              "       width=\"24px\">\n",
              "    <path d=\"M0 0h24v24H0V0z\" fill=\"none\"/>\n",
              "    <path d=\"M18.56 5.44l.94 2.06.94-2.06 2.06-.94-2.06-.94-.94-2.06-.94 2.06-2.06.94zm-11 1L8.5 8.5l.94-2.06 2.06-.94-2.06-.94L8.5 2.5l-.94 2.06-2.06.94zm10 10l.94 2.06.94-2.06 2.06-.94-2.06-.94-.94-2.06-.94 2.06-2.06.94z\"/><path d=\"M17.41 7.96l-1.37-1.37c-.4-.4-.92-.59-1.43-.59-.52 0-1.04.2-1.43.59L10.3 9.45l-7.72 7.72c-.78.78-.78 2.05 0 2.83L4 21.41c.39.39.9.59 1.41.59.51 0 1.02-.2 1.41-.59l7.78-7.78 2.81-2.81c.8-.78.8-2.07 0-2.86zM5.41 20L4 18.59l7.72-7.72 1.47 1.35L5.41 20z\"/>\n",
              "  </svg>\n",
              "      </button>\n",
              "      \n",
              "  <style>\n",
              "    .colab-df-container {\n",
              "      display:flex;\n",
              "      flex-wrap:wrap;\n",
              "      gap: 12px;\n",
              "    }\n",
              "\n",
              "    .colab-df-convert {\n",
              "      background-color: #E8F0FE;\n",
              "      border: none;\n",
              "      border-radius: 50%;\n",
              "      cursor: pointer;\n",
              "      display: none;\n",
              "      fill: #1967D2;\n",
              "      height: 32px;\n",
              "      padding: 0 0 0 0;\n",
              "      width: 32px;\n",
              "    }\n",
              "\n",
              "    .colab-df-convert:hover {\n",
              "      background-color: #E2EBFA;\n",
              "      box-shadow: 0px 1px 2px rgba(60, 64, 67, 0.3), 0px 1px 3px 1px rgba(60, 64, 67, 0.15);\n",
              "      fill: #174EA6;\n",
              "    }\n",
              "\n",
              "    [theme=dark] .colab-df-convert {\n",
              "      background-color: #3B4455;\n",
              "      fill: #D2E3FC;\n",
              "    }\n",
              "\n",
              "    [theme=dark] .colab-df-convert:hover {\n",
              "      background-color: #434B5C;\n",
              "      box-shadow: 0px 1px 3px 1px rgba(0, 0, 0, 0.15);\n",
              "      filter: drop-shadow(0px 1px 2px rgba(0, 0, 0, 0.3));\n",
              "      fill: #FFFFFF;\n",
              "    }\n",
              "  </style>\n",
              "\n",
              "      <script>\n",
              "        const buttonEl =\n",
              "          document.querySelector('#df-5f3a2c00-a1dc-4fd9-b8c2-1e409b51cb8b button.colab-df-convert');\n",
              "        buttonEl.style.display =\n",
              "          google.colab.kernel.accessAllowed ? 'block' : 'none';\n",
              "\n",
              "        async function convertToInteractive(key) {\n",
              "          const element = document.querySelector('#df-5f3a2c00-a1dc-4fd9-b8c2-1e409b51cb8b');\n",
              "          const dataTable =\n",
              "            await google.colab.kernel.invokeFunction('convertToInteractive',\n",
              "                                                     [key], {});\n",
              "          if (!dataTable) return;\n",
              "\n",
              "          const docLinkHtml = 'Like what you see? Visit the ' +\n",
              "            '<a target=\"_blank\" href=https://colab.research.google.com/notebooks/data_table.ipynb>data table notebook</a>'\n",
              "            + ' to learn more about interactive tables.';\n",
              "          element.innerHTML = '';\n",
              "          dataTable['output_type'] = 'display_data';\n",
              "          await google.colab.output.renderOutput(dataTable, element);\n",
              "          const docLink = document.createElement('div');\n",
              "          docLink.innerHTML = docLinkHtml;\n",
              "          element.appendChild(docLink);\n",
              "        }\n",
              "      </script>\n",
              "    </div>\n",
              "  </div>\n",
              "  "
            ]
          },
          "metadata": {},
          "execution_count": 3
        }
      ]
    },
    {
      "cell_type": "code",
      "source": [
        "# X is feature vectors\n",
        "X = df [['Mpg', 'Cylinders', 'Displacement' ,'Horsepower', 'Weight', 'Acceleration', 'Model year', 'Origin']]\n",
        "X"
      ],
      "metadata": {
        "id": "VFXmShOIU_Is",
        "colab": {
          "base_uri": "https://localhost:8080/",
          "height": 423
        },
        "outputId": "7c75f74d-42af-4ab0-d1d1-be01c5f17c9b"
      },
      "execution_count": 4,
      "outputs": [
        {
          "output_type": "execute_result",
          "data": {
            "text/plain": [
              "      Mpg  Cylinders  Displacement  Horsepower  Weight  Acceleration  \\\n",
              "0    18.0          8         307.0         130    3504          12.0   \n",
              "1    15.0          8         350.0         165    3693          11.5   \n",
              "2    18.0          8         318.0         150    3436          11.0   \n",
              "3    16.0          8         304.0         150    3433          12.0   \n",
              "4    17.0          8         302.0         140    3449          10.5   \n",
              "..    ...        ...           ...         ...     ...           ...   \n",
              "387  27.0          4         140.0          86    2790          15.6   \n",
              "388  44.0          4          97.0          52    2130          24.6   \n",
              "389  32.0          4         135.0          84    2295          11.6   \n",
              "390  28.0          4         120.0          79    2625          18.6   \n",
              "391  31.0          4         119.0          82    2720          19.4   \n",
              "\n",
              "     Model year  Origin  \n",
              "0            70       1  \n",
              "1            70       1  \n",
              "2            70       1  \n",
              "3            70       1  \n",
              "4            70       1  \n",
              "..          ...     ...  \n",
              "387          82       1  \n",
              "388          82       2  \n",
              "389          82       1  \n",
              "390          82       1  \n",
              "391          82       1  \n",
              "\n",
              "[392 rows x 8 columns]"
            ],
            "text/html": [
              "\n",
              "  <div id=\"df-75ee9167-6f86-4e84-9fc3-a73bea4e685a\">\n",
              "    <div class=\"colab-df-container\">\n",
              "      <div>\n",
              "<style scoped>\n",
              "    .dataframe tbody tr th:only-of-type {\n",
              "        vertical-align: middle;\n",
              "    }\n",
              "\n",
              "    .dataframe tbody tr th {\n",
              "        vertical-align: top;\n",
              "    }\n",
              "\n",
              "    .dataframe thead th {\n",
              "        text-align: right;\n",
              "    }\n",
              "</style>\n",
              "<table border=\"1\" class=\"dataframe\">\n",
              "  <thead>\n",
              "    <tr style=\"text-align: right;\">\n",
              "      <th></th>\n",
              "      <th>Mpg</th>\n",
              "      <th>Cylinders</th>\n",
              "      <th>Displacement</th>\n",
              "      <th>Horsepower</th>\n",
              "      <th>Weight</th>\n",
              "      <th>Acceleration</th>\n",
              "      <th>Model year</th>\n",
              "      <th>Origin</th>\n",
              "    </tr>\n",
              "  </thead>\n",
              "  <tbody>\n",
              "    <tr>\n",
              "      <th>0</th>\n",
              "      <td>18.0</td>\n",
              "      <td>8</td>\n",
              "      <td>307.0</td>\n",
              "      <td>130</td>\n",
              "      <td>3504</td>\n",
              "      <td>12.0</td>\n",
              "      <td>70</td>\n",
              "      <td>1</td>\n",
              "    </tr>\n",
              "    <tr>\n",
              "      <th>1</th>\n",
              "      <td>15.0</td>\n",
              "      <td>8</td>\n",
              "      <td>350.0</td>\n",
              "      <td>165</td>\n",
              "      <td>3693</td>\n",
              "      <td>11.5</td>\n",
              "      <td>70</td>\n",
              "      <td>1</td>\n",
              "    </tr>\n",
              "    <tr>\n",
              "      <th>2</th>\n",
              "      <td>18.0</td>\n",
              "      <td>8</td>\n",
              "      <td>318.0</td>\n",
              "      <td>150</td>\n",
              "      <td>3436</td>\n",
              "      <td>11.0</td>\n",
              "      <td>70</td>\n",
              "      <td>1</td>\n",
              "    </tr>\n",
              "    <tr>\n",
              "      <th>3</th>\n",
              "      <td>16.0</td>\n",
              "      <td>8</td>\n",
              "      <td>304.0</td>\n",
              "      <td>150</td>\n",
              "      <td>3433</td>\n",
              "      <td>12.0</td>\n",
              "      <td>70</td>\n",
              "      <td>1</td>\n",
              "    </tr>\n",
              "    <tr>\n",
              "      <th>4</th>\n",
              "      <td>17.0</td>\n",
              "      <td>8</td>\n",
              "      <td>302.0</td>\n",
              "      <td>140</td>\n",
              "      <td>3449</td>\n",
              "      <td>10.5</td>\n",
              "      <td>70</td>\n",
              "      <td>1</td>\n",
              "    </tr>\n",
              "    <tr>\n",
              "      <th>...</th>\n",
              "      <td>...</td>\n",
              "      <td>...</td>\n",
              "      <td>...</td>\n",
              "      <td>...</td>\n",
              "      <td>...</td>\n",
              "      <td>...</td>\n",
              "      <td>...</td>\n",
              "      <td>...</td>\n",
              "    </tr>\n",
              "    <tr>\n",
              "      <th>387</th>\n",
              "      <td>27.0</td>\n",
              "      <td>4</td>\n",
              "      <td>140.0</td>\n",
              "      <td>86</td>\n",
              "      <td>2790</td>\n",
              "      <td>15.6</td>\n",
              "      <td>82</td>\n",
              "      <td>1</td>\n",
              "    </tr>\n",
              "    <tr>\n",
              "      <th>388</th>\n",
              "      <td>44.0</td>\n",
              "      <td>4</td>\n",
              "      <td>97.0</td>\n",
              "      <td>52</td>\n",
              "      <td>2130</td>\n",
              "      <td>24.6</td>\n",
              "      <td>82</td>\n",
              "      <td>2</td>\n",
              "    </tr>\n",
              "    <tr>\n",
              "      <th>389</th>\n",
              "      <td>32.0</td>\n",
              "      <td>4</td>\n",
              "      <td>135.0</td>\n",
              "      <td>84</td>\n",
              "      <td>2295</td>\n",
              "      <td>11.6</td>\n",
              "      <td>82</td>\n",
              "      <td>1</td>\n",
              "    </tr>\n",
              "    <tr>\n",
              "      <th>390</th>\n",
              "      <td>28.0</td>\n",
              "      <td>4</td>\n",
              "      <td>120.0</td>\n",
              "      <td>79</td>\n",
              "      <td>2625</td>\n",
              "      <td>18.6</td>\n",
              "      <td>82</td>\n",
              "      <td>1</td>\n",
              "    </tr>\n",
              "    <tr>\n",
              "      <th>391</th>\n",
              "      <td>31.0</td>\n",
              "      <td>4</td>\n",
              "      <td>119.0</td>\n",
              "      <td>82</td>\n",
              "      <td>2720</td>\n",
              "      <td>19.4</td>\n",
              "      <td>82</td>\n",
              "      <td>1</td>\n",
              "    </tr>\n",
              "  </tbody>\n",
              "</table>\n",
              "<p>392 rows × 8 columns</p>\n",
              "</div>\n",
              "      <button class=\"colab-df-convert\" onclick=\"convertToInteractive('df-75ee9167-6f86-4e84-9fc3-a73bea4e685a')\"\n",
              "              title=\"Convert this dataframe to an interactive table.\"\n",
              "              style=\"display:none;\">\n",
              "        \n",
              "  <svg xmlns=\"http://www.w3.org/2000/svg\" height=\"24px\"viewBox=\"0 0 24 24\"\n",
              "       width=\"24px\">\n",
              "    <path d=\"M0 0h24v24H0V0z\" fill=\"none\"/>\n",
              "    <path d=\"M18.56 5.44l.94 2.06.94-2.06 2.06-.94-2.06-.94-.94-2.06-.94 2.06-2.06.94zm-11 1L8.5 8.5l.94-2.06 2.06-.94-2.06-.94L8.5 2.5l-.94 2.06-2.06.94zm10 10l.94 2.06.94-2.06 2.06-.94-2.06-.94-.94-2.06-.94 2.06-2.06.94z\"/><path d=\"M17.41 7.96l-1.37-1.37c-.4-.4-.92-.59-1.43-.59-.52 0-1.04.2-1.43.59L10.3 9.45l-7.72 7.72c-.78.78-.78 2.05 0 2.83L4 21.41c.39.39.9.59 1.41.59.51 0 1.02-.2 1.41-.59l7.78-7.78 2.81-2.81c.8-.78.8-2.07 0-2.86zM5.41 20L4 18.59l7.72-7.72 1.47 1.35L5.41 20z\"/>\n",
              "  </svg>\n",
              "      </button>\n",
              "      \n",
              "  <style>\n",
              "    .colab-df-container {\n",
              "      display:flex;\n",
              "      flex-wrap:wrap;\n",
              "      gap: 12px;\n",
              "    }\n",
              "\n",
              "    .colab-df-convert {\n",
              "      background-color: #E8F0FE;\n",
              "      border: none;\n",
              "      border-radius: 50%;\n",
              "      cursor: pointer;\n",
              "      display: none;\n",
              "      fill: #1967D2;\n",
              "      height: 32px;\n",
              "      padding: 0 0 0 0;\n",
              "      width: 32px;\n",
              "    }\n",
              "\n",
              "    .colab-df-convert:hover {\n",
              "      background-color: #E2EBFA;\n",
              "      box-shadow: 0px 1px 2px rgba(60, 64, 67, 0.3), 0px 1px 3px 1px rgba(60, 64, 67, 0.15);\n",
              "      fill: #174EA6;\n",
              "    }\n",
              "\n",
              "    [theme=dark] .colab-df-convert {\n",
              "      background-color: #3B4455;\n",
              "      fill: #D2E3FC;\n",
              "    }\n",
              "\n",
              "    [theme=dark] .colab-df-convert:hover {\n",
              "      background-color: #434B5C;\n",
              "      box-shadow: 0px 1px 3px 1px rgba(0, 0, 0, 0.15);\n",
              "      filter: drop-shadow(0px 1px 2px rgba(0, 0, 0, 0.3));\n",
              "      fill: #FFFFFF;\n",
              "    }\n",
              "  </style>\n",
              "\n",
              "      <script>\n",
              "        const buttonEl =\n",
              "          document.querySelector('#df-75ee9167-6f86-4e84-9fc3-a73bea4e685a button.colab-df-convert');\n",
              "        buttonEl.style.display =\n",
              "          google.colab.kernel.accessAllowed ? 'block' : 'none';\n",
              "\n",
              "        async function convertToInteractive(key) {\n",
              "          const element = document.querySelector('#df-75ee9167-6f86-4e84-9fc3-a73bea4e685a');\n",
              "          const dataTable =\n",
              "            await google.colab.kernel.invokeFunction('convertToInteractive',\n",
              "                                                     [key], {});\n",
              "          if (!dataTable) return;\n",
              "\n",
              "          const docLinkHtml = 'Like what you see? Visit the ' +\n",
              "            '<a target=\"_blank\" href=https://colab.research.google.com/notebooks/data_table.ipynb>data table notebook</a>'\n",
              "            + ' to learn more about interactive tables.';\n",
              "          element.innerHTML = '';\n",
              "          dataTable['output_type'] = 'display_data';\n",
              "          await google.colab.output.renderOutput(dataTable, element);\n",
              "          const docLink = document.createElement('div');\n",
              "          docLink.innerHTML = docLinkHtml;\n",
              "          element.appendChild(docLink);\n",
              "        }\n",
              "      </script>\n",
              "    </div>\n",
              "  </div>\n",
              "  "
            ]
          },
          "metadata": {},
          "execution_count": 4
        }
      ]
    },
    {
      "cell_type": "code",
      "source": [
        "matrix, eig_vals, eig_vecs = pca_function(X, False)"
      ],
      "metadata": {
        "colab": {
          "base_uri": "https://localhost:8080/",
          "height": 813
        },
        "id": "e98Qq3iV56uk",
        "outputId": "332068d7-5f8c-43c8-bbb8-9c9bfca28b7b"
      },
      "execution_count": 5,
      "outputs": [
        {
          "output_type": "stream",
          "name": "stderr",
          "text": [
            "/usr/local/lib/python3.7/dist-packages/seaborn/_decorators.py:43: FutureWarning: Pass the following variables as keyword args: x, y. From version 0.12, the only valid positional argument will be `data`, and passing other arguments without an explicit keyword will result in an error or misinterpretation.\n",
            "  FutureWarning\n"
          ]
        },
        {
          "output_type": "stream",
          "name": "stdout",
          "text": [
            "y_culmulated [0.997536268412888, 0.9995995239909548]\n",
            "y_culmulated [0.997536268412888, 0.9995995239909548, 0.9999560258433218]\n",
            "y_culmulated [0.997536268412888, 0.9995995239909548, 0.9999560258433218, 0.9999877109744464]\n",
            "y_culmulated [0.997536268412888, 0.9995995239909548, 0.9999560258433218, 0.9999877109744464, 0.9999952641549913]\n",
            "y_culmulated [0.997536268412888, 0.9995995239909548, 0.9999560258433218, 0.9999877109744464, 0.9999952641549913, 0.9999991567975406]\n",
            "y_culmulated [0.997536268412888, 0.9995995239909548, 0.9999560258433218, 0.9999877109744464, 0.9999952641549913, 0.9999991567975406, 0.9999996478554528]\n",
            "y_culmulated [0.997536268412888, 0.9995995239909548, 0.9999560258433218, 0.9999877109744464, 0.9999952641549913, 0.9999991567975406, 0.9999996478554528, 0.9999999999999999]\n"
          ]
        },
        {
          "output_type": "display_data",
          "data": {
            "text/plain": [
              "<Figure size 360x360 with 1 Axes>"
            ],
            "image/png": "[encoded data removed]"
          },
          "metadata": {
            "needs_background": "light"
          }
        },
        {
          "output_type": "display_data",
          "data": {
            "text/plain": [
              "<Figure size 432x288 with 2 Axes>"
            ],
            "image/png": "[encoded data removed]"
          },
          "metadata": {
            "needs_background": "light"
          }
        }
      ]
    },
    {
      "cell_type": "code",
      "source": [
        "# eigen vector and eigen values from covariance matrix \n",
        "print('Load Matrix \\n%s' %matrix)\n",
        "print('Eigenvector \\n%s' %eig_vecs)\n",
        "print('Eigenvalues \\n%s' %eig_vals)"
      ],
      "metadata": {
        "colab": {
          "base_uri": "https://localhost:8080/",
          "height": 0
        },
        "id": "75Np2h_SIWUA",
        "outputId": "f3fd0750-c411-4610-e281-299110c08576"
      },
      "execution_count": 6,
      "outputs": [
        {
          "output_type": "stream",
          "name": "stdout",
          "text": [
            "Load Matrix \n",
            "[[ 6.09181419e+01 -1.03529281e+01 -6.57585207e+02 -2.33857926e+02\n",
            "  -5.51744070e+03  9.11551438e+00  1.66914766e+01  3.55351010e+00]\n",
            " [-1.03529281e+01  2.90969649e+00  1.69721949e+02  5.53482436e+01\n",
            "   1.30042436e+03 -2.37505219e+00 -2.17192964e+00 -7.81734433e-01]\n",
            " [-6.57585207e+02  1.69721949e+02  1.09503676e+04  3.61403374e+03\n",
            "   8.29291001e+04 -1.56994435e+02 -1.42572133e+02 -5.18007921e+01]\n",
            " [-2.33857926e+02  5.53482436e+01  3.61403374e+03  1.48156939e+03\n",
            "   2.82656202e+04 -7.31869670e+01 -5.90364320e+01 -1.41127407e+01]\n",
            " [-5.51744070e+03  1.30042436e+03  8.29291001e+04  2.82656202e+04\n",
            "   7.21484709e+05 -9.76815253e+02 -9.67228457e+02 -4.00266050e+02]\n",
            " [ 9.11551438e+00 -2.37505219e+00 -1.56994435e+02 -7.31869670e+01\n",
            "  -9.76815253e+02  7.61133123e+00  2.95046192e+00  4.72788246e-01]\n",
            " [ 1.66914766e+01 -2.17192964e+00 -1.42572133e+02 -5.90364320e+01\n",
            "  -9.67228457e+02  2.95046192e+00  1.35699149e+01  5.38650243e-01]\n",
            " [ 3.55351010e+00 -7.81734433e-01 -5.18007921e+01 -1.41127407e+01\n",
            "  -4.00266050e+02  4.72788246e-01  5.38650243e-01  6.48859544e-01]]\n",
            "Eigenvector \n",
            "[[-7.59590581e-03 -1.75785097e-02 -4.19212264e-02  8.31000630e-01\n",
            "   5.49535507e-01  5.61451547e-02 -3.97118180e-02  2.43984110e-02]\n",
            " [ 1.79257460e-03  1.33223878e-02 -7.28065126e-03 -4.31502411e-03\n",
            "  -9.17751826e-03  1.53912563e-02  3.75218753e-01  9.26626917e-01]\n",
            " [ 1.14338202e-01  9.45572572e-01 -3.03873075e-01  9.22239231e-03\n",
            "  -3.41321063e-03 -1.06909276e-02  9.19061696e-04 -1.63889805e-02]\n",
            " [ 3.89660894e-02  2.98328518e-01  9.47540130e-01  6.34424404e-02\n",
            "  -5.73169239e-03 -8.63249865e-02 -8.51000586e-03  8.19890724e-03]\n",
            " [ 9.92644743e-01 -1.20867105e-01 -2.65874637e-03  3.53993832e-03\n",
            "   3.93041220e-03  3.52931159e-03 -1.85727735e-04 -1.31438408e-04]\n",
            " [-1.35281211e-03 -3.48299933e-02 -7.68839939e-02 -2.08463123e-02\n",
            "   1.25527681e-01 -9.88134411e-01  9.09879495e-03  1.37739900e-02]\n",
            " [-1.33689886e-03 -2.39497354e-02 -4.41269251e-02  5.51778482e-01\n",
            "  -8.24191632e-01 -1.12006207e-01  3.03888666e-02 -1.60382361e-02]\n",
            " [-5.51527155e-04 -3.24675463e-03  1.23716014e-02  2.00685150e-02\n",
            "   5.30801776e-02  8.77898223e-03  9.25502182e-01 -3.74145010e-01]]\n",
            "Eigenvalues \n",
            "[7.32193919e+05 1.51443435e+03 2.61673181e+02 2.32569592e+01\n",
            " 5.54405192e+00 2.85720860e+00 3.60437639e-01 2.58474909e-01]\n"
          ]
        }
      ]
    },
    {
      "cell_type": "code",
      "source": [
        "matrix, eig_vals, eig_vecs = pca_function(X, True)"
      ],
      "metadata": {
        "colab": {
          "base_uri": "https://localhost:8080/",
          "height": 813
        },
        "id": "TJKpABcw7Lq8",
        "outputId": "2d0c5dde-703d-44bc-b286-ac6aa258a391"
      },
      "execution_count": 7,
      "outputs": [
        {
          "output_type": "stream",
          "name": "stderr",
          "text": [
            "/usr/local/lib/python3.7/dist-packages/seaborn/_decorators.py:43: FutureWarning: Pass the following variables as keyword args: x, y. From version 0.12, the only valid positional argument will be `data`, and passing other arguments without an explicit keyword will result in an error or misinterpretation.\n",
            "  FutureWarning\n"
          ]
        },
        {
          "output_type": "stream",
          "name": "stdout",
          "text": [
            "y_culmulated [0.6719840378371841, 0.7899419455491004]\n",
            "y_culmulated [0.6719840378371841, 0.7899419455491004, 0.8913974014119522]\n",
            "y_culmulated [0.6719840378371841, 0.7899419455491004, 0.8913974014119522, 0.95216689351586]\n",
            "y_culmulated [0.6719840378371841, 0.7899419455491004, 0.8913974014119522, 0.95216689351586, 0.9750202144750866]\n",
            "y_culmulated [0.6719840378371841, 0.7899419455491004, 0.8913974014119522, 0.95216689351586, 0.9750202144750866, 0.9893104552509677]\n",
            "y_culmulated [0.6719840378371841, 0.7899419455491004, 0.8913974014119522, 0.95216689351586, 0.9750202144750866, 0.9893104552509677, 0.9933066477212246]\n",
            "y_culmulated [0.6719840378371841, 0.7899419455491004, 0.8913974014119522, 0.95216689351586, 0.9750202144750866, 0.9893104552509677, 0.9933066477212246, 0.9999999999999999]\n"
          ]
        },
        {
          "output_type": "display_data",
          "data": {
            "text/plain": [
              "<Figure size 360x360 with 1 Axes>"
            ],
            "image/png": "[encoded data removed]"
          },
          "metadata": {
            "needs_background": "light"
          }
        },
        {
          "output_type": "display_data",
          "data": {
            "text/plain": [
              "<Figure size 432x288 with 2 Axes>"
            ],
            "image/png": "[encoded data removed]"
          },
          "metadata": {
            "needs_background": "light"
          }
        }
      ]
    },
    {
      "cell_type": "code",
      "source": [
        "# eigen vector and eigen values from correlation matrix \n",
        "print('Load Matrix \\n%s' %matrix)\n",
        "print('Eigenvector \\n%s' %eig_vecs)\n",
        "print('Eigenvalues \\n%s' %eig_vals)"
      ],
      "metadata": {
        "colab": {
          "base_uri": "https://localhost:8080/",
          "height": 0
        },
        "id": "sYkiyYiB7YJ6",
        "outputId": "df0c57f1-1c47-4185-8f45-e9d3e443f5c6"
      },
      "execution_count": 8,
      "outputs": [
        {
          "output_type": "stream",
          "name": "stdout",
          "text": [
            "Load Matrix \n",
            "[[ 1.         -0.77761751 -0.80512695 -0.77842678 -0.83224421  0.42332854\n",
            "   0.58054097  0.56520876]\n",
            " [-0.77761751  1.          0.9508233   0.84298336  0.89752734 -0.50468338\n",
            "  -0.34564744 -0.56893159]\n",
            " [-0.80512695  0.9508233   1.          0.897257    0.9329944  -0.5438005\n",
            "  -0.36985521 -0.61453511]\n",
            " [-0.77842678  0.84298336  0.897257    1.          0.86453774 -0.68919551\n",
            "  -0.41636148 -0.45517145]\n",
            " [-0.83224421  0.89752734  0.9329944   0.86453774  1.         -0.4168392\n",
            "  -0.30911988 -0.58500535]\n",
            " [ 0.42332854 -0.50468338 -0.5438005  -0.68919551 -0.4168392   1.\n",
            "   0.29031611  0.21274581]\n",
            " [ 0.58054097 -0.34564744 -0.36985521 -0.41636148 -0.30911988  0.29031611\n",
            "   1.          0.18152772]\n",
            " [ 0.56520876 -0.56893159 -0.61453511 -0.45517145 -0.58500535  0.21274581\n",
            "   0.18152772  1.        ]]\n",
            "Eigenvector \n",
            "[[-0.38586239  0.07663269  0.29228579  0.09998251 -0.74036644 -0.38735165\n",
            "   0.1151321   0.19588516]\n",
            " [ 0.4023885   0.13842878  0.07223935 -0.21603551 -0.48261485  0.53092548\n",
            "   0.41774679 -0.27878265]\n",
            " [ 0.41644435  0.12632499  0.07423622 -0.13581398 -0.30331627  0.00699705\n",
            "  -0.82916553  0.08422855]\n",
            " [ 0.40183594 -0.11148007  0.23605571 -0.11971643  0.08426839 -0.6667096\n",
            "   0.13477548 -0.53504996]\n",
            " [ 0.40157579  0.21102    -0.00089399 -0.32246785  0.13127292 -0.23585961\n",
            "   0.30991105  0.72202073]\n",
            " [-0.2647309   0.41690206 -0.63943514 -0.49280794 -0.09773197 -0.20293343\n",
            "  -0.03518826 -0.22891382]\n",
            " [-0.21386777  0.6904632   0.5871892  -0.10601968  0.30134385  0.11002592\n",
            "  -0.0542884  -0.12501506]\n",
            " [-0.27786815 -0.50150064  0.30732382 -0.74328281  0.04739508  0.12086663\n",
            "  -0.07951102  0.0345266 ]]\n",
            "Eigenvalues \n",
            "[5.3758723  0.94366326 0.81164365 0.48615594 0.18282657 0.11432193\n",
            " 0.03196954 0.05354682]\n"
          ]
        }
      ]
    },
    {
      "cell_type": "markdown",
      "source": [
        "PCA is not scale invariant. If the features are of different units (e.g. dollars and miles and kilograms and numbers of products), we should standardized the data.\n"
      ],
      "metadata": {
        "id": "woanADXtrJDY"
      }
    }
  ]
}