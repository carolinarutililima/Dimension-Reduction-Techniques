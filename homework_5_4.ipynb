{
  "cells": [
    {
      "cell_type": "markdown",
      "metadata": {
        "id": "ublVIgnSWusq"
      },
      "source": [
        "4. Transpose the ORL face dataset to let 𝐗 be a 2576 × 400 data matrix. Apply PCA to 𝐗, using the PCA function you created in EX3 above."
      ]
    },
    {
      "cell_type": "code",
      "execution_count": null,
      "metadata": {
        "id": "5RTFPSSEK9VA"
      },
      "outputs": [],
      "source": [
        "from PIL import Image\n",
        "import numpy as np\n",
        "from numpy import array\n",
        "from tkinter import _flatten\n",
        "from sklearn.linear_model import Lasso \n",
        "from sklearn.linear_model import Ridge \n",
        "import math\n",
        "import matplotlib.pyplot as plt\n",
        "import os\n"
      ]
    },
    {
      "cell_type": "code",
      "execution_count": null,
      "metadata": {
        "colab": {
          "base_uri": "https://localhost:8080/"
        },
        "id": "VkhQIDV9Wm-d",
        "outputId": "2f806679-7e9d-4d03-d99a-1f71508845ea"
      },
      "outputs": [
        {
          "data": {
            "text/plain": [
              "(400, 1)"
            ]
          },
          "execution_count": 2,
          "metadata": {},
          "output_type": "execute_result"
        }
      ],
      "source": [
        "import numpy\n",
        "\n",
        "# 1 - 0, 2 - 1, 3 - 1, 4 - 1, 5 - 1, 6 - 1, 7 - 1, 8 - 0, 9 - 1, 10 - 0, 11 - 1, 12 - 0, 13 - 1, 14 - 1, 15 - 1\n",
        "# 16 - 1, 17 - 1, 18 - 1, 19 - 1, 20 - 1, 21 - 1, 22 - 1, 23 - 1, 24 - 1, 25 - 1, 26 - 1, 27 - 1, 28 - 1, 29 - 1, 30 - 1\n",
        "# 31 - 1, 32 - 0, 33 - 1, 34 - 1, 35 - 1, 36 - 1, 37 - 1, 38 - 1, 39 - 1, 40 - 1  \n",
        "gender = [0, 1, 1, 1, 1, 1, 1, 0, 1, 0,1, 0, 1,1,1,1,1,1,1,1,1,1,1,1,1,1,1,1,1,1,1,0,1,1,1,1,1,1,1,1]\n",
        "len(gender)\n",
        "\n",
        "final = []\n",
        "for i in gender:\n",
        "  if i == 0:\n",
        "    for j in range(0,10):\n",
        "      final.append(0)\n",
        "    #new_list = [0,0,0,0,0,0,0,0,0,0]\n",
        "  else:\n",
        "    for j in range(0,10):\n",
        "      final.append(1)\n",
        "\n",
        "\n",
        " \n",
        "gender = np.asarray(final)\n",
        "gender = np.expand_dims(gender, axis=1)\n",
        "gender.shape\n",
        "\n",
        "\n"
      ]
    },
    {
      "cell_type": "code",
      "execution_count": null,
      "metadata": {
        "id": "K6f3E4pwWnRG"
      },
      "outputs": [],
      "source": [
        "from PIL import Image\n",
        "\n",
        "\n",
        "def load_images_from_folder(folder):\n",
        "  i = 1\n",
        "  for filename in os.listdir(folder):\n",
        "    im = Image.open(os.path.join(folder,filename))\n",
        "    data = np.array(im)\n",
        "    flattened = data.flatten()\n",
        "    reshape_fla = np.expand_dims(flattened, axis=0)\n",
        "    if i == 1:\n",
        "      final = reshape_fla\n",
        "      i = 2\n",
        "    else:\n",
        "      final = np.vstack((final,reshape_fla))\n",
        "\n",
        "  return final\n",
        "\n",
        "\n",
        "pixels = load_images_from_folder('/content/drive/MyDrive/Colab Notebooks/homework_5/faces')\n",
        "\n",
        "pixels.shape\n",
        "\n",
        "X = pixels"
      ]
    },
    {
      "cell_type": "markdown",
      "metadata": {
        "id": "XUWzZlONW9Ai"
      },
      "source": [
        "a. (10%) How many principal components are needed to explain 50%, 60%, 70%, 80%, and 90% of the total\n",
        "variance?"
      ]
    },
    {
      "cell_type": "code",
      "execution_count": null,
      "metadata": {
        "id": "SP0JqujKXDDN"
      },
      "outputs": [],
      "source": [
        "import numpy as np\n",
        "import matplotlib.pyplot as plt\n",
        "import pandas as pd\n",
        "import seaborn as sns\n",
        "%matplotlib inline"
      ]
    },
    {
      "cell_type": "code",
      "execution_count": null,
      "metadata": {
        "id": "KXwraw4eXDMl"
      },
      "outputs": [],
      "source": [
        "from sklearn.preprocessing import StandardScaler\n",
        "\n",
        "def plot_eigvals(eigVals): \n",
        "  count = 0\n",
        "  x_axis=[]\n",
        "  y = []\n",
        "  y_culmulated = []\n",
        "  total_val = eigVals.sum() \n",
        "  y_culmulated.append(eigVals[0]/total_val) \n",
        "  for i in range(0,len(eigVals)):\n",
        "    x_axis.append(i) \n",
        "    y.append(eigVals[i]/total_val) \n",
        "\n",
        "    if i !=0 :\n",
        "      y_culmulated.append((eigVals[i]/total_val+y_culmulated[i-1]))      \n",
        "\n",
        "      if y_culmulated[-1] > 0.5 and count == 0:\n",
        "        print(\"it was necessary \" + str(len(y_culmulated))+\" components for 50% variance\")\n",
        "        count = 1\n",
        "      \n",
        "      elif y_culmulated[-1] > 0.6 and count == 1:\n",
        "        print(\"it was necessary \" + str(len(y_culmulated))+\" components for 60% variance\")\n",
        "        count = 2\n",
        "\n",
        "      elif y_culmulated[-1] > 0.7 and count == 2:\n",
        "        print(\"it was necessary \" + str(len(y_culmulated))+\" components for 70% variance\")\n",
        "        count = 3\n",
        "  \n",
        "      elif y_culmulated[-1] > 0.8 and count == 3:\n",
        "        print(\"it was necessary \" + str(len(y_culmulated))+\" components for 80% variance\")\n",
        "        count = 4  \n",
        "\n",
        "      elif y_culmulated[-1] > 0.9 and count == 4:\n",
        "        print(\"it was necessary \" + str(len(y_culmulated))+\" components for 90% variance\")\n",
        "        count = 5\n",
        "\n",
        "  fig, ax1 = plt.subplots()\n",
        "  ax2 = ax1.twinx() \n",
        "\n",
        "\n",
        "  ax2.set_xlabel(\"PC numbers\")\n",
        "  ax1.set_ylabel(\"Variance\")\n",
        "  ax1.bar(x_axis, eigVals, color=\"blue\")\n",
        "\n",
        "\n",
        "  ax2.set_ylabel(\"Cumulative Percentage\") \n",
        "  ax2.plot(x_axis,y_culmulated , color=\"red\")\n",
        "\n",
        "\n",
        "def onedin_plot(projected_X):\n",
        "  result = pd.DataFrame(projected_X, columns=['PC1'])\n",
        "  result['y-axis'] = 0.0\n",
        "  sns.lmplot('PC1', 'y-axis', data=result, fit_reg=False)\n",
        "\n",
        "  # title\n",
        "  plt.title('PCA result')\n",
        "\n",
        "  \n",
        "\n",
        "\n",
        "def pca_function(X, isCorrMX):\n",
        "  features = X.T\n",
        "  if isCorrMX == True:\n",
        "    matrix = np.corrcoef(features)\n",
        "  else:\n",
        "    matrix = np.cov(features)\n",
        "\n",
        "  eig_vals, eig_vecs = np.linalg.eig(matrix)\n",
        "  eig_vals[0]/sum(eig_vals)\n",
        "  projected_X = X.dot(eig_vecs.T[0])\n",
        "\n",
        "  onedin_plot(projected_X)\n",
        "  plot_eigvals(eig_vals)\n",
        "\n",
        "\n",
        "  return matrix, eig_vals, eig_vecs\n"
      ]
    },
    {
      "cell_type": "code",
      "execution_count": null,
      "metadata": {
        "colab": {
          "background_save": true
        },
        "id": "IGybVK_oR0xG",
        "outputId": "f2bdb106-dabc-4c39-ae03-d9640b4ca8ca"
      },
      "outputs": [
        {
          "name": "stderr",
          "output_type": "stream",
          "text": [
            "/usr/local/lib/python3.7/dist-packages/seaborn/_decorators.py:43: FutureWarning: Pass the following variables as keyword args: x, y. From version 0.12, the only valid positional argument will be `data`, and passing other arguments without an explicit keyword will result in an error or misinterpretation.\n",
            "  FutureWarning\n",
            "/usr/local/lib/python3.7/dist-packages/seaborn/regression.py:630: ComplexWarning: Casting complex values to real discards the imaginary part\n",
            "  xys = np.asarray(data[[x, y]]).astype(float)\n",
            "/usr/local/lib/python3.7/dist-packages/matplotlib/collections.py:153: ComplexWarning: Casting complex values to real discards the imaginary part\n",
            "  offsets = np.asanyarray(offsets, float)\n",
            "/usr/local/lib/python3.7/dist-packages/matplotlib/transforms.py:789: ComplexWarning: Casting complex values to real discards the imaginary part\n",
            "  points = np.array(args, dtype=float).reshape(2, 2)\n"
          ]
        },
        {
          "name": "stdout",
          "output_type": "stream",
          "text": [
            "it was necessary 6 components for 50% variance\n",
            "it was necessary 9 components for 60% variance\n",
            "it was necessary 17 components for 70% variance\n",
            "it was necessary 34 components for 80% variance\n",
            "it was necessary 79 components for 90% variance\n"
          ]
        },
        {
          "name": "stderr",
          "output_type": "stream",
          "text": [
            "/usr/local/lib/python3.7/dist-packages/matplotlib/cbook/__init__.py:1317: ComplexWarning: Casting complex values to real discards the imaginary part\n",
            "  return np.asarray(x, float)\n"
          ]
        },
        {
          "data": {
            "image/png": "[encoded data removed]",
            "text/plain": [
              "<Figure size 360x360 with 1 Axes>"
            ]
          },
          "metadata": {},
          "output_type": "display_data"
        },
        {
          "data": {
            "image/png": "[encoded data removed]",
            "text/plain": [
              "<Figure size 432x288 with 2 Axes>"
            ]
          },
          "metadata": {},
          "output_type": "display_data"
        }
      ],
      "source": [
        "matrix, eig_vals, eig_vecs = pca_function(X, True)"
      ]
    },
    {
      "cell_type": "code",
      "execution_count": null,
      "metadata": {
        "colab": {
          "background_save": true
        },
        "id": "gPu5tWpKS5nN",
        "outputId": "a50bbe38-d777-4173-f3ec-acd629cd000c"
      },
      "outputs": [
        {
          "name": "stdout",
          "output_type": "stream",
          "text": [
            "Load Matrix \n",
            "[[ 1.          0.99805448  0.99539744 ... -0.04092392 -0.06217686\n",
            "  -0.03358896]\n",
            " [ 0.99805448  1.          0.99755336 ... -0.04238136 -0.06305265\n",
            "  -0.0314054 ]\n",
            " [ 0.99539744  0.99755336  1.         ... -0.04299081 -0.06004523\n",
            "  -0.02733557]\n",
            " ...\n",
            " [-0.04092392 -0.04238136 -0.04299081 ...  1.          0.90625009\n",
            "   0.82079334]\n",
            " [-0.06217686 -0.06305265 -0.06004523 ...  0.90625009  1.\n",
            "   0.94361423]\n",
            " [-0.03358896 -0.0314054  -0.02733557 ...  0.82079334  0.94361423\n",
            "   1.        ]]\n",
            "Eigenvector \n",
            "[[ 0.01757966+0.j          0.02796559+0.j          0.03828835+0.j\n",
            "  ... -0.00182406-0.00061826j -0.00182406+0.00061826j\n",
            "  -0.00281772+0.j        ]\n",
            " [ 0.01751104+0.j          0.02819481+0.j          0.03836737+0.j\n",
            "  ... -0.00036497+0.00020164j -0.00036497-0.00020164j\n",
            "  -0.00024581+0.j        ]\n",
            " [ 0.01808453+0.j          0.02765299+0.j          0.03859395+0.j\n",
            "  ...  0.00018517-0.00058752j  0.00018517+0.00058752j\n",
            "  -0.00070176+0.j        ]\n",
            " ...\n",
            " [-0.0159241 +0.j          0.00522833+0.j          0.01841436+0.j\n",
            "  ... -0.02166532+0.02032875j -0.02166532-0.02032875j\n",
            "   0.04373198+0.j        ]\n",
            " [-0.01796103+0.j          0.00054265+0.j          0.02263794+0.j\n",
            "  ...  0.02745895+0.00829102j  0.02745895-0.00829102j\n",
            "  -0.04252694+0.j        ]\n",
            " [-0.0184973 +0.j          0.00106001+0.j          0.02486163+0.j\n",
            "  ... -0.01185101+0.01029558j -0.01185101-0.01029558j\n",
            "   0.04274228+0.j        ]]\n",
            "Eigenvalues \n",
            "[ 4.36011826e+02+0.00000000e+00j  3.33300262e+02+0.00000000e+00j\n",
            "  2.19556982e+02+0.00000000e+00j ... -1.99163228e-16+9.93173808e-17j\n",
            " -1.99163228e-16-9.93173808e-17j -1.17150215e-16+0.00000000e+00j]\n"
          ]
        }
      ],
      "source": [
        "# eigen vector and eigen values from correlation matrix \n",
        "print('Load Matrix \\n%s' %matrix)\n",
        "print('Eigenvector \\n%s' %eig_vecs)\n",
        "print('Eigenvalues \\n%s' %eig_vals)"
      ]
    },
    {
      "cell_type": "markdown",
      "metadata": {
        "id": "nnq6083zW-2l"
      },
      "source": [
        "b. (10%) Rescale the first principal component (PC) into the range of [0, 255]. Reshape the first PC (initially\n",
        "an 2576 × 1 vector) into a 46 × 56 matrix. Plot an image from the 46 × 56 matrix using the rescaled PC scores as the grayscale values."
      ]
    },
    {
      "cell_type": "code",
      "execution_count": null,
      "metadata": {
        "colab": {
          "background_save": true
        },
        "id": "5cN39DY2DTiq",
        "outputId": "50513d50-76b9-4f02-c12f-e50680207248"
      },
      "outputs": [
        {
          "data": {
            "image/png": "[encoded data removed]",
            "text/plain": [
              "<Figure size 432x288 with 1 Axes>"
            ]
          },
          "metadata": {},
          "output_type": "display_data"
        }
      ],
      "source": [
        "PC1 = X@eig_vecs\n",
        "PC1 = PC1[0].reshape(56,46).real\n",
        "imgplot = plt.imshow(PC1, cmap='gray')\n",
        "plt.show()"
      ]
    },
    {
      "cell_type": "code",
      "execution_count": null,
      "metadata": {
        "colab": {
          "background_save": true
        },
        "id": "wC6wNSbajzbB",
        "outputId": "b2179f85-3664-44d3-b1db-8c7c45d21c7f"
      },
      "outputs": [
        {
          "name": "stderr",
          "output_type": "stream",
          "text": [
            "/usr/local/lib/python3.7/dist-packages/seaborn/_decorators.py:43: FutureWarning: Pass the following variables as keyword args: x, y. From version 0.12, the only valid positional argument will be `data`, and passing other arguments without an explicit keyword will result in an error or misinterpretation.\n",
            "  FutureWarning\n"
          ]
        },
        {
          "name": "stdout",
          "output_type": "stream",
          "text": [
            "it was necessary 2 components for 50% variance\n",
            "it was necessary 4 components for 60% variance\n",
            "it was necessary 7 components for 70% variance\n",
            "it was necessary 17 components for 80% variance\n",
            "it was necessary 50 components for 90% variance\n"
          ]
        },
        {
          "data": {
            "image/png": "[encoded data removed]",
            "text/plain": [
              "<Figure size 360x360 with 1 Axes>"
            ]
          },
          "metadata": {},
          "output_type": "display_data"
        },
        {
          "data": {
            "image/png": "[encoded data removed]",
            "text/plain": [
              "<Figure size 432x288 with 2 Axes>"
            ]
          },
          "metadata": {},
          "output_type": "display_data"
        }
      ],
      "source": [
        "matrix, eig_vals, eig_vecs = pca_function(X.T, True)"
      ]
    },
    {
      "cell_type": "code",
      "execution_count": 11,
      "metadata": {
        "colab": {
          "base_uri": "https://localhost:8080/",
          "height": 267
        },
        "id": "wv25luw5z5_V",
        "outputId": "e2b8f077-f9f6-41b1-cd16-4af52d9cb888"
      },
      "outputs": [
        {
          "output_type": "display_data",
          "data": {
            "text/plain": [
              "<Figure size 432x288 with 1 Axes>"
            ],
            "image/png": "[encoded data removed]"
          },
          "metadata": {
            "needs_background": "light"
          }
        }
      ],
      "source": [
        "PC1 = X.T@eig_vecs\n",
        "PC1 = PC1.T[0].reshape(56,46).real\n",
        "imgplot = plt.imshow(PC1, cmap='gray')\n",
        "plt.show()"
      ]
    }
  ],
  "metadata": {
    "colab": {
      "name": "homework_5_4.ipynb",
      "provenance": []
    },
    "kernelspec": {
      "display_name": "Python 3",
      "name": "python3"
    },
    "language_info": {
      "name": "python"
    }
  },
  "nbformat": 4,
  "nbformat_minor": 0
}