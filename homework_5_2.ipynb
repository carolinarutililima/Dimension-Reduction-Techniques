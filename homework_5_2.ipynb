{
  "nbformat": 4,
  "nbformat_minor": 0,
  "metadata": {
    "colab": {
      "name": "homework_5_2.ipynb",
      "provenance": []
    },
    "kernelspec": {
      "name": "python3",
      "display_name": "Python 3"
    },
    "language_info": {
      "name": "python"
    }
  },
  "cells": [
    {
      "cell_type": "markdown",
      "source": [
        "The following table, provided by Dr. Philip Israelovich of the Federal Reserve Bank, gives the information on capital, labor, and value added of the economics of transportation equipment."
      ],
      "metadata": {
        "id": "ZOsbqQ7ASpg6"
      }
    },
    {
      "cell_type": "markdown",
      "source": [
        "a. (5%) Consider the model $𝑉 = 𝛼𝐾^{𝛽1}_{t}𝐿^{𝛽2}_{t}𝜂$, \n",
        "where the subscript t indicates the year, 𝑉 is value added, 𝐾 is capital, 𝐿 is labor,and 𝜂 is the error term, with E[log(𝜂𝑡)] = 0 and var[log(𝜂𝑡)] a constant. Assuming the errors are independent across the years,\n",
        "estimate 𝛽1 and 𝛽2."
      ],
      "metadata": {
        "id": "XEZPyDYiStaX"
      }
    },
    {
      "cell_type": "markdown",
      "source": [
        "$𝑉 = 𝛼𝐾^{𝛽1}_{t}𝐿^{𝛽2}_{t}𝜂$ = $ln(𝑉) = ln(𝛼) + 𝛽1 ln(𝐾_{t}) + {𝛽2} ln(𝐿_{t}) + ln(𝜂) $"
      ],
      "metadata": {
        "id": "KXJrHJ7nUXCN"
      }
    },
    {
      "cell_type": "code",
      "source": [
        "import pandas as pd\n",
        "import numpy as np\n",
        "import statsmodels.api as sm\n",
        "import scipy\n",
        "from sklearn.linear_model import LinearRegression"
      ],
      "metadata": {
        "id": "_VY8aQs5Up6S",
        "colab": {
          "base_uri": "https://localhost:8080/",
          "height": 0
        },
        "outputId": "5f3e3989-4d61-4dd0-ea5c-bc4d0fba0a74"
      },
      "execution_count": 1,
      "outputs": [
        {
          "output_type": "stream",
          "name": "stderr",
          "text": [
            "/usr/local/lib/python3.7/dist-packages/statsmodels/tools/_testing.py:19: FutureWarning: pandas.util.testing is deprecated. Use the functions in the public API at pandas.testing instead.\n",
            "  import pandas.util.testing as tm\n"
          ]
        }
      ]
    },
    {
      "cell_type": "code",
      "source": [
        "df = pd.read_csv('/content/drive/MyDrive/Colab Notebooks/homework_5/economics.csv', sep=\";\", header=None, names=['Year', 'Capital', 'Labor', 'Value Added'])\n",
        "y = np.log(df[\"Value Added\"])\n",
        "X = np.log(df[[\"Capital\",\"Labor\"]])"
      ],
      "metadata": {
        "id": "ewjdTsBrVDsQ"
      },
      "execution_count": 2,
      "outputs": []
    },
    {
      "cell_type": "code",
      "source": [
        "#model = sm.regression.linear_model.OLS(y, X).fit()\n",
        "model = sm.OLS(y, X)\n",
        "results = model.fit()\n",
        "results.params\n",
        "\n",
        "print(\"b1, b2:\", results.params[0], results.params[1])\n"
      ],
      "metadata": {
        "colab": {
          "base_uri": "https://localhost:8080/",
          "height": 0
        },
        "id": "BfMb1a5TbVSs",
        "outputId": "91243188-11ed-4dd8-b2d9-d9a3f75b10f0"
      },
      "execution_count": 9,
      "outputs": [
        {
          "output_type": "stream",
          "name": "stdout",
          "text": [
            "b1, b2: -0.786984291188638 0.8493262886146713\n"
          ]
        }
      ]
    },
    {
      "cell_type": "markdown",
      "source": [
        "b. (10%) The model in (a) is said to be of the Cobb-Douglas form. It is easier to interpret if 𝛽1 + 𝛽2 = 1. Estimate 𝛽1 and 𝛽2 under this constraint."
      ],
      "metadata": {
        "id": "OcVGYeMXUi_u"
      }
    },
    {
      "cell_type": "code",
      "source": [
        "pip install gekko"
      ],
      "metadata": {
        "colab": {
          "base_uri": "https://localhost:8080/",
          "height": 0
        },
        "id": "sMhDxKoq4NtF",
        "outputId": "df8c47eb-3d57-44e6-8fb0-103c59a3e10c"
      },
      "execution_count": 4,
      "outputs": [
        {
          "output_type": "stream",
          "name": "stdout",
          "text": [
            "Collecting gekko\n",
            "  Downloading gekko-1.0.2-py3-none-any.whl (12.4 MB)\n",
            "\u001b[K     |████████████████████████████████| 12.4 MB 3.7 MB/s \n",
            "\u001b[?25hRequirement already satisfied: numpy>=1.8 in /usr/local/lib/python3.7/dist-packages (from gekko) (1.21.5)\n",
            "Installing collected packages: gekko\n",
            "Successfully installed gekko-1.0.2\n"
          ]
        }
      ]
    },
    {
      "cell_type": "code",
      "source": [
        "y = np.log(df[\"Value Added\"].values[:])\n",
        "x1 = np.log(df[[\"Capital\"]].values[:])\n",
        "x2 = np.log(df[[\"Labor\"]].values[:])\n"
      ],
      "metadata": {
        "id": "pw-Ve4rD64N9"
      },
      "execution_count": 5,
      "outputs": []
    },
    {
      "cell_type": "code",
      "source": [
        "import numpy as np\n",
        "from gekko import GEKKO\n",
        "\n",
        "\n",
        "# Gekko for constrained regression\n",
        "m = GEKKO(remote=False); m.options.IMODE=2\n",
        "a,b1,b2  = m.Array(m.FV,3)\n",
        "a.STATUS=1; b1.STATUS=1; b2.STATUS=1\n",
        "x1=m.Param(x1); x2=m.Param(x2)\n",
        "y = m.Var();  ym=m.Param(y)\n",
        "m.Equation(y==a+b1*x1+b2*x2)\n",
        "m.Equation(b1==1-b2)\n",
        "m.Minimize((ym-y)**2)\n",
        "m.options.SOLVER=1\n",
        "m.solve(disp=True)\n",
        "#m.solve(disp=False)\n",
        "\n",
        "print(\"alpha, b1, and b2:\",a.value[0],b1.value[0],b2.value[0])"
      ],
      "metadata": {
        "colab": {
          "base_uri": "https://localhost:8080/",
          "height": 0
        },
        "id": "TzMFJ5m939Uz",
        "outputId": "06d4ba38-f96f-487b-f506-33384bc7e951"
      },
      "execution_count": 8,
      "outputs": [
        {
          "output_type": "stream",
          "name": "stdout",
          "text": [
            " ----------------------------------------------------------------\n",
            " APMonitor, Version 1.0.1\n",
            " APMonitor Optimization Suite\n",
            " ----------------------------------------------------------------\n",
            " \n",
            " \n",
            " --------- APM Model Size ------------\n",
            " Each time step contains\n",
            "   Objects      :            0\n",
            "   Constants    :            0\n",
            "   Variables    :            7\n",
            "   Intermediates:            0\n",
            "   Connections  :            0\n",
            "   Equations    :            3\n",
            "   Residuals    :            3\n",
            " \n",
            " Number of state variables:             18\n",
            " Number of total equations: -           30\n",
            " Number of slack variables: -            0\n",
            " ---------------------------------------\n",
            " Degrees of freedom       :            -12\n",
            " \n",
            " * Warning: DOF <= 0\n",
            " ----------------------------------------------\n",
            " Model Parameter Estimation with APOPT Solver\n",
            " ----------------------------------------------\n",
            " \n",
            " Iter    Objective  Convergence\n",
            "    0  1.16334E+01  1.00000E+00\n",
            "    1  1.16334E+01  5.55112E-17\n",
            "    2  1.16334E+01  5.55112E-17\n",
            " Successful solution\n",
            " \n",
            " ---------------------------------------------------\n",
            " Solver         :  APOPT (v1.0)\n",
            " Solution time  :   0.109099999999671      sec\n",
            " Objective      :    11.6334119665812     \n",
            " Successful solution\n",
            " ---------------------------------------------------\n",
            " \n",
            "\n",
            "alpha, b1, and b2 -13.120945212 0.53679588857 0.46320411143\n"
          ]
        }
      ]
    },
    {
      "cell_type": "code",
      "source": [
        ""
      ],
      "metadata": {
        "id": "JHvOvJipODmU"
      },
      "execution_count": null,
      "outputs": []
    }
  ]
}